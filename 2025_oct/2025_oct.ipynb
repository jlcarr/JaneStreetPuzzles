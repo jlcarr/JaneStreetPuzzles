{
 "cells": [
  {
   "cell_type": "markdown",
   "id": "c93815d6",
   "metadata": {},
   "source": [
    "# Jane Street Puzzle 2025 October: Robot Baseball\n",
    "\n",
    "https://www.janestreet.com/puzzles/current-puzzle/\n",
    "\n",
    "The Artificial Automaton Athletics Association (Quad-A) is at it again, to compete with postseason baseball they are developing a Robot Baseball competition. Games are composed of a series of independent at-bats in which the batter is trying to maximize expected score and the pitcher is trying to minimize expected score.\n",
    "\n",
    "An at-bat is a series of pitches with a running count of balls and strikes, both starting at zero. For each pitch, the pitcher decides whether to throw a ball or strike, and the batter decides whether to wait or swing; these decisions are made secretly and simultaneously. The results of these choices are as follows.\n",
    "\n",
    "- If the pitcher throws a ball and the batter waits, the count of balls is incremented by 1.\n",
    "- If the pitcher throws a strike and the batter waits, the count of strikes is incremented by 1.\n",
    "- If the pitcher throws a ball and the batter swings, the count of strikes is incremented by 1.\n",
    "- If the pitcher throws a strike and the batter swings, with probability p the batter hits a home run and with probability 1-p the count of strikes is incremented by 1.\n",
    "\n",
    "An at-bat ends when either:\n",
    "\n",
    "- The count of balls reaches 4, in which case the batter receives 1 point.\n",
    "- The count of strikes reaches 3, in which case the batter receives 0 points.\n",
    "- The batter hits a home run, in which case the batter receives 4 points.\n",
    "\n",
    "By varying the size of the strike zone, Quad-A can adjust the value p, the probability a pitched strike that is swung at results in a home run. They have found that viewers are most excited by at-bats that reach a full count, that is, the at-bats that reach the state of three balls and two strikes. Let q be the probability of at-bats reaching full count; q is dependent on p. Assume the batter and pitcher are both using optimal mixed strategies and Quad-A has chosen the p that maximizes q. Find this q, the maximal probability at-bats reach full count, to ten decimal places."
   ]
  },
  {
   "cell_type": "markdown",
   "id": "f7d24e99",
   "metadata": {},
   "source": [
    "## Analysis\n",
    "\n",
    "### Optimal Mixed Strategies\n",
    "\n",
    "https://www3.nd.edu/~apilking/math10170/information/Lectures/16%20Optimal%20Mixed%20Strategy.pdf\n",
    "\n",
    "A mixed strategy is when a player has a probability distribution over their possible moves. We can therefore in general define the expected outcome for players A and B:\n",
    "\n",
    "$\n",
    "\\begin{align}\n",
    "    E &= P(A=0) P(B=0) E(A=0,B=0) \\\\\n",
    "      &+ P(A=0) P(B=1) E(A=0,B=1) \\\\\n",
    "      &+ P(A=1) P(B=0) E(A=1,B=0) \\\\\n",
    "      &+ P(A=1) P(B=1) E(A=1,B=1) \\\\\n",
    "      &= P(A=0) P(B=0) E(A=0,B=0) \\\\\n",
    "      &+ P(A=0) \\left( 1 - P(B=0) \\right) E(A=0,B=1) \\\\\n",
    "      &+ \\left( 1 - P(A=0) \\right) P(B=0) E(A=1,B=0) \\\\\n",
    "      &+ \\left( 1 - P(A=0) \\right) \\left( 1 - P(B=0) \\right) E(A=1,B=1)\n",
    "\\end{align}\n",
    "$\n",
    "\n",
    "Note that a pure strategy can be considered a special case of a mixed stategy in which only one move has probability equal to 1.\n",
    "\n",
    "\n",
    "A mixed strategy is optimal when both players cannot change their strategies and expect a better outcome: i.e. it is a fixed point.\n",
    "\n",
    "$\n",
    "\\begin{align} \n",
    "    \\frac{\\partial E}{\\partial P(A=0)} &= P(B=0) E(A=0,B=0) \\\\\n",
    "                                       &+ \\left( 1 - P(B=0) \\right) E(A=0,B=1) \\\\\n",
    "                                       &- P(B=0) E(A=1,B=0) \\\\\n",
    "                                       &- \\left( 1 - P(B=0) \\right) E(A=1,B=1) \\\\\n",
    "                                       &= 0\n",
    "\\end{align}\n",
    "$\n",
    "\n",
    "Therefore:\n",
    "\n",
    "$\n",
    "P(B=0) = \\frac{E(A=1,B=1) - E(A=0,B=1)}{E(A=0,B=0) - E(A=0,B=1) - E(A=1,B=0) + E(A=1,B=1)}\n",
    "$\n"
   ]
  },
  {
   "cell_type": "markdown",
   "id": "21744f02",
   "metadata": {},
   "source": [
    "### Defining the Robot Baseball Expected Outcome Recursively\n",
    "\n",
    "We can define the expected outcome recursively as a function of the number of balls and strikes accumulated so far.\n",
    "\n",
    "$\n",
    "\\begin{align}\n",
    "    E(b,s) &= P_{\\mathrm{ball}} P_{\\mathrm{wait}} E(b+1,s) \\\\\n",
    "     &+ P_{\\mathrm{ball}} \\left( 1 - P_{\\mathrm{wait}} \\right) E(b,s+1) \\\\\n",
    "     &+ \\left( 1 - P_{\\mathrm{ball}} \\right) P_{\\mathrm{wait}} E(b,s+1) \\\\\n",
    "     &+ \\left( 1 - P_{\\mathrm{ball}} \\right) \\left( 1 - P_{\\mathrm{wait}} \\right) (4p + (1-p)E(b,s+1))\n",
    "\\end{align}\n",
    "$\n",
    "\n",
    "$\n",
    "P_{\\mathrm{ball}} = \\frac{p (4 - E(b,s+1))}{E(b+1,s) - (3 - p) E(b,s+1) + 4p}\n",
    "$\n"
   ]
  },
  {
   "cell_type": "markdown",
   "id": "e918ca46",
   "metadata": {},
   "source": [
    "## Implementation"
   ]
  },
  {
   "cell_type": "markdown",
   "id": "52eef703",
   "metadata": {},
   "source": [
    "### Function Definition\n",
    "\n",
    "We can define a function to output the value of $q$ with input $p$ by solving the optimal mixed strategies for each game state, and then recusively propagating the probabilities to end states, and finally taking the probability of the full-count state, i.e. $q$."
   ]
  },
  {
   "cell_type": "code",
   "execution_count": null,
   "id": "329d3be8",
   "metadata": {},
   "outputs": [],
   "source": [
    "import functools"
   ]
  },
  {
   "cell_type": "code",
   "execution_count": null,
   "id": "245c0ea7",
   "metadata": {},
   "outputs": [],
   "source": [
    "from collections import deque"
   ]
  },
  {
   "cell_type": "code",
   "execution_count": null,
   "id": "833e12ca",
   "metadata": {},
   "outputs": [],
   "source": [
    "bmax = 4\n",
    "smax = 3\n",
    "\n",
    "def q(p):\n",
    "    strat_cache = dict()\n",
    "    Es = dict()\n",
    "    @functools.cache\n",
    "    def solve_strats(b=0, s=0):\n",
    "        if s == smax:\n",
    "            Es[(b,s)] = 0\n",
    "            return 0\n",
    "        if b == bmax:\n",
    "            Es[(b,s)] = 1\n",
    "            return 1\n",
    "        \n",
    "        E_ball_wait = solve_strats(b=b+1, s=s)\n",
    "        E_ball_swing = solve_strats(b=b, s=s+1)\n",
    "        E_strike_wait = solve_strats(b=b, s=s+1)\n",
    "        E_strike_swing = 4 * p + (1 - p) * solve_strats(b=b, s=s+1)\n",
    "        \n",
    "        P_ball_numerator = E_strike_swing - E_strike_wait\n",
    "        P_ball_denominator = E_ball_wait - E_strike_wait - E_ball_swing + E_strike_swing\n",
    "        if P_ball_denominator == 0:\n",
    "            print('ISSUE P_ball_denominator!')\n",
    "        P_ball = P_ball_numerator / P_ball_denominator\n",
    "        \n",
    "        P_wait_numerator = E_strike_swing - E_ball_swing\n",
    "        P_wait_denominator = E_ball_wait - E_ball_swing - E_strike_wait + E_strike_swing\n",
    "        if P_wait_denominator == 0:\n",
    "            print('ISSUE P_wait_denominator!')\n",
    "        P_wait = P_wait_numerator / P_wait_denominator\n",
    "        \n",
    "        E_opt = P_ball * P_wait * E_ball_wait \\\n",
    "            + P_ball * (1 - P_wait) * E_ball_swing \\\n",
    "            + (1 - P_ball) * P_wait * E_strike_wait \\\n",
    "            + (1 - P_ball) * (1 - P_wait) * E_strike_swing\n",
    "        \n",
    "        strat_cache[(b,s)] = (P_ball, P_wait)\n",
    "        \n",
    "        Es[(b,s)] = E_opt\n",
    "        return E_opt\n",
    "    \n",
    "    solve_strats()\n",
    "    #print(strat_cache)\n",
    "    #print(Es)\n",
    "    \n",
    "    # solve_probs\n",
    "    q = deque([(0,0)])\n",
    "    Ps = {q[0]: 1}\n",
    "    \n",
    "    while q:\n",
    "        b,s = q.pop()\n",
    "        P = Ps[(b,s)]\n",
    "        #if b == 3 and s == 2:\n",
    "        #    return P\n",
    "        if (b,s) not in strat_cache:\n",
    "            continue\n",
    "        P_ball, P_wait = strat_cache[(b,s)]\n",
    "        \n",
    "        if (b+1,s) not in Ps:\n",
    "            Ps[(b+1,s)] = 0\n",
    "            q.appendleft((b+1,s))\n",
    "        Ps[(b+1,s)] += P_ball * P_wait * P\n",
    "        \n",
    "        if (b,s+1) not in Ps:\n",
    "            Ps[(b,s+1)] = 0\n",
    "            q.appendleft((b,s+1))\n",
    "        Ps[(b,s+1)] += (P_ball*(1-P_wait) + (1-P_ball)*P_wait + (1-P_ball)*(1-P_wait)*(1 - p)) * P\n",
    "    #print(Ps)\n",
    "    \n",
    "    return Ps[(bmax-1,smax-1)]"
   ]
  },
  {
   "cell_type": "markdown",
   "id": "eca44fbf",
   "metadata": {},
   "source": [
    "### Solving the Optimization Problem\n",
    "\n",
    "- https://docs.scipy.org/doc/scipy/reference/generated/scipy.optimize.minimize_scalar.html"
   ]
  },
  {
   "cell_type": "code",
   "execution_count": null,
   "id": "005252b0",
   "metadata": {},
   "outputs": [],
   "source": [
    "from scipy.optimize import minimize_scalar"
   ]
  },
  {
   "cell_type": "code",
   "execution_count": null,
   "id": "0eed103c",
   "metadata": {},
   "outputs": [],
   "source": [
    "res = minimize_scalar(lambda x: -q(x), bounds=(0,1), options={'xatol':1e-11})"
   ]
  },
  {
   "cell_type": "code",
   "execution_count": null,
   "id": "b0b242f6",
   "metadata": {},
   "outputs": [],
   "source": [
    "print(f\"p = {res.x}, q = {-res.fun:.10f}\")"
   ]
  },
  {
   "cell_type": "markdown",
   "id": "3dec4bf7",
   "metadata": {},
   "source": [
    "### Solver-Base Alternate Implementation\n",
    "\n",
    "Besides taking longer, it seems no matter how low I set the tolerance (only have absolute x-tolerance, not relative f-tolerance available by scipy), I'm not getting very good convergence. I think the propagation of the error must be rather large!"
   ]
  },
  {
   "cell_type": "code",
   "execution_count": null,
   "id": "cd8c5e2d",
   "metadata": {},
   "outputs": [],
   "source": [
    "bmax = 4\n",
    "smax = 3\n",
    "\n",
    "def q_opt(p):\n",
    "    strat_cache = dict()\n",
    "    Es = dict()\n",
    "    @functools.cache\n",
    "    def solve_strats(b=0, s=0):\n",
    "        if s == smax:\n",
    "            Es[(b,s)] = 0\n",
    "            return 0\n",
    "        if b == bmax:\n",
    "            Es[(b,s)] = 1\n",
    "            return 1\n",
    "        E_ball_wait = solve_strats(b=b+1, s=s)\n",
    "        E_ball_swing = solve_strats(b=b, s=s+1)\n",
    "        E_strike_wait = solve_strats(b=b, s=s+1)\n",
    "        E_strike_swing = 4 * p + (1 - p) * solve_strats(b=b, s=s+1)\n",
    "        \n",
    "        \n",
    "        def E_pitcher_min(P_ball):\n",
    "            def E_batter_max(P_wait):\n",
    "                return P_ball * P_wait * E_ball_wait \\\n",
    "                    + P_ball * (1 - P_wait) * E_ball_swing \\\n",
    "                    + (1 - P_ball) * P_wait * E_strike_wait \\\n",
    "                    + (1 - P_ball) * (1 - P_wait) * E_strike_swing\n",
    "            res = minimize_scalar(lambda x: -E_batter_max(x), bounds=(0,1))\n",
    "            return -res.fun\n",
    "        res = minimize_scalar(E_pitcher_min, bounds=(0,1), options={'xatol':1e-20})\n",
    "        P_ball = res.x\n",
    "        \n",
    "        def E_batter_max(P_wait):\n",
    "            def E_pitcher_min(P_ball):\n",
    "                return P_ball * P_wait * E_ball_wait \\\n",
    "                    + P_ball * (1 - P_wait) * E_ball_swing \\\n",
    "                    + (1 - P_ball) * P_wait * E_strike_wait \\\n",
    "                    + (1 - P_ball) * (1 - P_wait) * E_strike_swing\n",
    "            res = minimize_scalar(E_pitcher_min, bounds=(0,1), options={'xatol':1e-20})\n",
    "            return res.fun\n",
    "        res = minimize_scalar(lambda x: -E_batter_max(x), bounds=(0,1))\n",
    "        P_wait = res.x\n",
    "        \n",
    "        E_opt = P_ball * P_wait * E_ball_wait \\\n",
    "            + P_ball * (1 - P_wait) * E_ball_swing \\\n",
    "            + (1 - P_ball) * P_wait * E_strike_wait \\\n",
    "            + (1 - P_ball) * (1 - P_wait) * E_strike_swing\n",
    "        \n",
    "        strat_cache[(b,s)] = (P_ball, P_wait)\n",
    "        \n",
    "        Es[(b,s)] = E_opt\n",
    "        return E_opt\n",
    "    \n",
    "    solve_strats()\n",
    "    #print(strat_cache)\n",
    "    #print(Es)\n",
    "    \n",
    "    # solve_probs\n",
    "    q = deque([(0,0)])\n",
    "    Ps = {q[0]: 1}\n",
    "    \n",
    "    while q:\n",
    "        b,s = q.pop()\n",
    "        P = Ps[(b,s)]\n",
    "        #if b == 3 and s == 2:\n",
    "        #    return P\n",
    "        if (b,s) not in strat_cache:\n",
    "            continue\n",
    "        P_ball, P_wait = strat_cache[(b,s)]\n",
    "        \n",
    "        if (b+1,s) not in Ps:\n",
    "            Ps[(b+1,s)] = 0\n",
    "            q.appendleft((b+1,s))\n",
    "        Ps[(b+1,s)] += P_ball * P_wait * P\n",
    "        \n",
    "        if (b,s+1) not in Ps:\n",
    "            Ps[(b,s+1)] = 0\n",
    "            q.appendleft((b,s+1))\n",
    "        Ps[(b,s+1)] += (P_ball*(1-P_wait) + (1-P_ball)*P_wait + (1-P_ball)*(1-P_wait)*(1 - p)) * P\n",
    "    #print(Ps)\n",
    "    return Ps[(bmax-1,smax-1)]"
   ]
  },
  {
   "cell_type": "code",
   "execution_count": null,
   "id": "dc732c80",
   "metadata": {},
   "outputs": [],
   "source": [
    "res = minimize_scalar(lambda x: -q_opt(x), bounds=(0,1), options={'xatol':1e-16})"
   ]
  },
  {
   "cell_type": "code",
   "execution_count": null,
   "id": "ba737500",
   "metadata": {},
   "outputs": [],
   "source": [
    "print(f\"p = {res.x}, q = {-res.fun:.10f}\")"
   ]
  },
  {
   "cell_type": "markdown",
   "id": "1c396a20",
   "metadata": {},
   "source": [
    "## Visualization"
   ]
  },
  {
   "cell_type": "markdown",
   "id": "9b1c099d",
   "metadata": {},
   "source": [
    "### q(p)"
   ]
  },
  {
   "cell_type": "code",
   "execution_count": null,
   "id": "dfc836ce",
   "metadata": {},
   "outputs": [],
   "source": [
    "import matplotlib.pyplot as plt"
   ]
  },
  {
   "cell_type": "code",
   "execution_count": null,
   "id": "affd938b",
   "metadata": {},
   "outputs": [],
   "source": [
    "import numpy as np"
   ]
  },
  {
   "cell_type": "code",
   "execution_count": null,
   "id": "310bbd68",
   "metadata": {},
   "outputs": [],
   "source": [
    "x = np.linspace(0,1,100)\n",
    "\n",
    "plt.plot(x, [q(ix) for ix in x])\n",
    "plt.xlabel(\"p\")\n",
    "plt.ylabel(\"q\")\n",
    "plt.show()"
   ]
  },
  {
   "cell_type": "markdown",
   "id": "f60291ba",
   "metadata": {},
   "source": [
    "### E(P_ball, P_wait) for a single round"
   ]
  },
  {
   "cell_type": "code",
   "execution_count": null,
   "id": "fd4f83a9",
   "metadata": {},
   "outputs": [],
   "source": [
    "p = 0.22697323584760093\n",
    "\n",
    "E_strike = 0\n",
    "E_ball = 1\n",
    "\n",
    "E_ball_wait = E_ball\n",
    "E_ball_swing = E_strike\n",
    "E_strike_wait = E_strike\n",
    "E_strike_swing = 4 * p + (1 - p) * E_strike\n",
    "\n",
    "P_ball = np.linspace(0, 1, 20)\n",
    "P_wait = np.linspace(0, 1, 20)\n",
    "P_ball, P_ball = np.meshgrid(P_ball, P_wait)\n",
    "\n",
    "E = P_ball * P_wait * E_ball_wait \\\n",
    "    + P_ball * (1 - P_wait) * E_ball_swing \\\n",
    "    + (1 - P_ball) * P_wait * E_strike_wait \\\n",
    "    + (1 - P_ball) * (1 - P_wait) * E_strike_swing\n",
    "\n",
    "# Plot the surface.\n",
    "fig, ax = plt.subplots(subplot_kw={\"projection\": \"3d\"})\n",
    "\n",
    "ax.plot_surface(P_ball, P_wait, E)\n",
    "\n",
    "ax.set_xlabel(\"$P_{ball}$\")\n",
    "ax.set_ylabel(\"$P_{wait}$\")\n",
    "ax.set_zlabel(\"$E$\")\n",
    "\n",
    "plt.show()"
   ]
  },
  {
   "cell_type": "code",
   "execution_count": null,
   "id": "78e28321",
   "metadata": {},
   "outputs": [],
   "source": []
  }
 ],
 "metadata": {
  "kernelspec": {
   "display_name": "Python 3",
   "language": "python",
   "name": "python3"
  },
  "language_info": {
   "codemirror_mode": {
    "name": "ipython",
    "version": 3
   },
   "file_extension": ".py",
   "mimetype": "text/x-python",
   "name": "python",
   "nbconvert_exporter": "python",
   "pygments_lexer": "ipython3",
   "version": "3.11.7"
  }
 },
 "nbformat": 4,
 "nbformat_minor": 5
}
