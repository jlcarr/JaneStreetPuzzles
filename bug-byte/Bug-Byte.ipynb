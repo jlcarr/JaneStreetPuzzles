{
 "cells": [
  {
   "cell_type": "markdown",
   "id": "d03415ab",
   "metadata": {},
   "source": [
    "# Bug Byte"
   ]
  },
  {
   "cell_type": "markdown",
   "id": "18d7747b",
   "metadata": {},
   "source": [
    "I'd like to share my programatic solution to the Bug Byte puzzle by Jane Street.\n",
    "\n",
    "You can find the original puzzle page here: <https://www.janestreet.com/bug-byte/>\n",
    "\n",
    "The puzzle is similar to a sudoku puzzle, except with additive contraints. The path-based contraints were the most interesting to handle: I simply assumed the paths wouldn't have more than 3 edges, and this seemed to work fine."
   ]
  },
  {
   "cell_type": "markdown",
   "id": "c196e689",
   "metadata": {},
   "source": [
    "## Tools"
   ]
  },
  {
   "cell_type": "code",
   "execution_count": null,
   "id": "8a9a1e55",
   "metadata": {},
   "outputs": [],
   "source": [
    "import z3"
   ]
  },
  {
   "cell_type": "code",
   "execution_count": null,
   "id": "3897fc21",
   "metadata": {},
   "outputs": [],
   "source": [
    "import networkx as nx"
   ]
  },
  {
   "cell_type": "markdown",
   "id": "756d6b7b",
   "metadata": {},
   "source": [
    "## Define the Graph"
   ]
  },
  {
   "cell_type": "code",
   "execution_count": null,
   "id": "1cd76fc2",
   "metadata": {},
   "outputs": [],
   "source": [
    "G = nx.Graph()"
   ]
  },
  {
   "cell_type": "code",
   "execution_count": null,
   "id": "96e4db19",
   "metadata": {},
   "outputs": [],
   "source": [
    "G.add_edge(17,3)\n",
    "G.add_edge(17, 'p19,23')\n",
    "\n",
    "G.add_edge(3, 'start')\n",
    "\n",
    "G.add_edge('p19,23', 'start', weight=12)\n",
    "G.add_edge('p19,23', 54)\n",
    "\n",
    "G.add_edge('start', 49)\n",
    "\n",
    "G.add_edge(54, 'p31')\n",
    "G.add_edge(54, 60)\n",
    "G.add_edge(54, 79)\n",
    "\n",
    "G.add_edge(49, 'p8')\n",
    "G.add_edge(49, 60)\n",
    "G.add_edge(49, 75, weight=20)\n",
    "\n",
    "G.add_edge(60, 'p6,9,16')\n",
    "G.add_edge(60, 79, weight=24)\n",
    "G.add_edge(60, 75)\n",
    "\n",
    "G.add_edge(79, 'x0')\n",
    "G.add_edge(79, 29)\n",
    "G.add_edge(79, 39, weight=7)\n",
    "\n",
    "G.add_edge(75, 'x1')\n",
    "G.add_edge(75, 25)\n",
    "\n",
    "G.add_edge(29, 39)\n",
    "G.add_edge(29, 25)\n",
    "\n",
    "G.add_edge(39, 'end')\n",
    "\n",
    "G.add_edge(25, 'end')"
   ]
  },
  {
   "cell_type": "markdown",
   "id": "4b38522f",
   "metadata": {},
   "source": [
    "### Drawing"
   ]
  },
  {
   "cell_type": "code",
   "execution_count": null,
   "id": "1458a9a7",
   "metadata": {},
   "outputs": [],
   "source": [
    "nx.draw_planar(G, with_labels = True)"
   ]
  },
  {
   "cell_type": "code",
   "execution_count": null,
   "id": "3fb8a013",
   "metadata": {},
   "outputs": [],
   "source": [
    "pos = {\n",
    "    17:(-1,3),\n",
    "    3:(1,3),\n",
    "    'p19,23':(-1,2),\n",
    "    'start':(1,2),\n",
    "    54:(-1,1),\n",
    "    49:(1,1),\n",
    "    'p31':(-2,2),\n",
    "    'p8':(2,2),\n",
    "    'p6,9,16':(0,1),\n",
    "    60:(0,0),\n",
    "    79:(-1,-1),\n",
    "    75:(1,-1),\n",
    "    'x0':(-2,-2),\n",
    "    'x1':(2,-2),\n",
    "    29:(0,-2),\n",
    "    39:(-1,-2),\n",
    "    25:(1,-2),\n",
    "    'end':(0,-3)\n",
    "}"
   ]
  },
  {
   "cell_type": "code",
   "execution_count": null,
   "id": "947d8f5c",
   "metadata": {},
   "outputs": [],
   "source": [
    "nx.draw(G, with_labels=True, pos=pos)"
   ]
  },
  {
   "cell_type": "markdown",
   "id": "76f540a1",
   "metadata": {},
   "source": [
    "## Defining the Problem in Z3"
   ]
  },
  {
   "cell_type": "code",
   "execution_count": null,
   "id": "dd0424af",
   "metadata": {},
   "outputs": [],
   "source": [
    "solver = z3.Solver()"
   ]
  },
  {
   "cell_type": "code",
   "execution_count": null,
   "id": "bbd72b6b",
   "metadata": {},
   "outputs": [],
   "source": [
    "edgev = lambda u,v: '-'.join(sorted(map(str,[u,v])))"
   ]
  },
  {
   "cell_type": "markdown",
   "id": "938546c4",
   "metadata": {},
   "source": [
    "### Define Edges"
   ]
  },
  {
   "cell_type": "code",
   "execution_count": null,
   "id": "de375a3b",
   "metadata": {},
   "outputs": [],
   "source": [
    "z3_edges = dict()\n",
    "for u,v,data in G.edges(data=True):\n",
    "    uv = edgev(u,v)\n",
    "    z3_edges[uv] = z3.Int(uv)\n",
    "    if 'weight' in data:\n",
    "        solver.add(z3_edges[uv] == data['weight'])\n",
    "z3_edges"
   ]
  },
  {
   "cell_type": "markdown",
   "id": "8d884d50",
   "metadata": {},
   "source": [
    "### Define Distinct 1 to 24"
   ]
  },
  {
   "cell_type": "code",
   "execution_count": null,
   "id": "4f9c7695",
   "metadata": {},
   "outputs": [],
   "source": [
    "solver.add(z3.Distinct(list(z3_edges.values())))"
   ]
  },
  {
   "cell_type": "code",
   "execution_count": null,
   "id": "fae63df5",
   "metadata": {},
   "outputs": [],
   "source": [
    "for e in z3_edges.values():\n",
    "    solver.add(1 <= e, e <= 24)"
   ]
  },
  {
   "cell_type": "markdown",
   "id": "018d9c00",
   "metadata": {},
   "source": [
    "### Node Constraints"
   ]
  },
  {
   "cell_type": "code",
   "execution_count": null,
   "id": "d2f78d57",
   "metadata": {},
   "outputs": [],
   "source": [
    "path_len_max = 4\n",
    "for node in G.nodes():\n",
    "    if isinstance(node, int):\n",
    "        expr = sum([z3_edges[edgev(node,v)] for v in G.neighbors(node)]) == node\n",
    "        solver.add(expr)\n",
    "        #print(expr)\n",
    "        #print(list(G.neighbors(node)))\n",
    "    elif node.startswith('p'):\n",
    "        targets = list(map(int,node[1:].split(',')))\n",
    "        #print('t', targets)\n",
    "        paths = [(node,v) for v in G.neighbors(node)]\n",
    "        for _ in range(path_len_max-2):\n",
    "            paths += [path+(v,) for path in paths for v in G.neighbors(path[-1]) if v not in path]\n",
    "        paths = [[z3_edges[edgev(u,v)] for u,v in zip(path[:-1],path[1:])] for path in paths]\n",
    "        for t in targets:\n",
    "            expr = z3.Or([sum(path)==t for path in paths])\n",
    "            solver.add(expr)\n",
    "            #print(expr)"
   ]
  },
  {
   "cell_type": "markdown",
   "id": "f70d585d",
   "metadata": {},
   "source": [
    "### Review Constraints"
   ]
  },
  {
   "cell_type": "code",
   "execution_count": null,
   "id": "a4d8bdd9",
   "metadata": {},
   "outputs": [],
   "source": [
    "print(solver.assertions())"
   ]
  },
  {
   "cell_type": "markdown",
   "id": "3180ca07",
   "metadata": {},
   "source": [
    "## Solving and Solution Extraction"
   ]
  },
  {
   "cell_type": "markdown",
   "id": "f76ffdf5",
   "metadata": {},
   "source": [
    "### Perform Solve"
   ]
  },
  {
   "cell_type": "code",
   "execution_count": null,
   "id": "1549abdb",
   "metadata": {},
   "outputs": [],
   "source": [
    "if solver.check() != z3.sat:\n",
    "    print('unsolvable')\n",
    "else:\n",
    "    model = solver.model()"
   ]
  },
  {
   "cell_type": "markdown",
   "id": "3e043010",
   "metadata": {},
   "source": [
    "### Extract Edge Weights"
   ]
  },
  {
   "cell_type": "code",
   "execution_count": null,
   "id": "eae0165a",
   "metadata": {},
   "outputs": [],
   "source": [
    "solution = {k: model.evaluate(v).as_long() for k,v in z3_edges.items()}\n",
    "solution"
   ]
  },
  {
   "cell_type": "code",
   "execution_count": null,
   "id": "877165b8",
   "metadata": {},
   "outputs": [],
   "source": [
    "for u,v,data in G.edges(data=True):\n",
    "    data['weight'] = solution[edgev(u,v)]"
   ]
  },
  {
   "cell_type": "code",
   "execution_count": null,
   "id": "53991a66",
   "metadata": {},
   "outputs": [],
   "source": [
    "nx.draw(G, with_labels=True, pos=pos)\n",
    "labels = nx.get_edge_attributes(G,'weight')\n",
    "nx.draw_networkx_edge_labels(G, pos, edge_labels=labels)\n",
    "print()"
   ]
  },
  {
   "cell_type": "markdown",
   "id": "e815ba21",
   "metadata": {},
   "source": [
    "### Shortest Path Solution"
   ]
  },
  {
   "cell_type": "code",
   "execution_count": null,
   "id": "3fbfcd22",
   "metadata": {},
   "outputs": [],
   "source": [
    "path = nx.shortest_path(G, source='start', target='end', weight='weight')\n",
    "path"
   ]
  },
  {
   "cell_type": "code",
   "execution_count": null,
   "id": "b7bec28b",
   "metadata": {},
   "outputs": [],
   "source": [
    "''.join([chr(solution[edgev(u,v)]-1+ord('A')) for u,v in zip(path[:-1],path[1:])])"
   ]
  },
  {
   "cell_type": "code",
   "execution_count": null,
   "id": "00b365a0",
   "metadata": {},
   "outputs": [],
   "source": []
  }
 ],
 "metadata": {
  "kernelspec": {
   "display_name": "Python 3",
   "language": "python",
   "name": "python3"
  },
  "language_info": {
   "codemirror_mode": {
    "name": "ipython",
    "version": 3
   },
   "file_extension": ".py",
   "mimetype": "text/x-python",
   "name": "python",
   "nbconvert_exporter": "python",
   "pygments_lexer": "ipython3",
   "version": "3.11.7"
  }
 },
 "nbformat": 4,
 "nbformat_minor": 5
}
