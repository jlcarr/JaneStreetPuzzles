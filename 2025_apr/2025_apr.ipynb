{
 "cells": [
  {
   "cell_type": "markdown",
   "id": "1e7eab62",
   "metadata": {},
   "source": [
    "# Jane Street Puzzle 2025 April: Sum One, Somewhere\n",
    "\n",
    "https://www.janestreet.com/puzzles/sum-one-somewhere-index/\n",
    "\n",
    "For a fixed p, independently label the nodes of an infinite complete binary tree 0 with probability p, and 1 otherwise. For what p is there exactly a 1/2 probability that there exists an infinite path down the tree that sums to at most 1 (that is, all nodes visited, with the possible exception of one, will be labeled 0). Find this value of p accurate to 10 decimal places."
   ]
  },
  {
   "cell_type": "markdown",
   "id": "7337e579",
   "metadata": {},
   "source": [
    "Note that this problem is essentially a simple percolation theory program, which we can solve and explore in a variey of ways.\n",
    "\n",
    "https://en.wikipedia.org/wiki/Percolation_theory"
   ]
  },
  {
   "cell_type": "markdown",
   "id": "d03e0669",
   "metadata": {},
   "source": [
    "## Analytical Solution\n",
    "\n",
    "The problem can easily be solved by writing down the recursive relation and working through the algebra."
   ]
  },
  {
   "cell_type": "markdown",
   "id": "3f603b71",
   "metadata": {},
   "source": [
    "### Setup"
   ]
  },
  {
   "cell_type": "code",
   "execution_count": null,
   "id": "a8a80df0",
   "metadata": {},
   "outputs": [],
   "source": [
    "import sympy"
   ]
  },
  {
   "cell_type": "code",
   "execution_count": null,
   "id": "f51c9869",
   "metadata": {},
   "outputs": [],
   "source": [
    "p = sympy.Symbol('p')\n",
    "r0 = sympy.Symbol('r_0')\n",
    "r1 = sympy.Symbol('r_1')"
   ]
  },
  {
   "cell_type": "markdown",
   "id": "fcbdf776",
   "metadata": {},
   "source": [
    "where\n",
    "- $p$ is the probability of a node being $0$\n",
    "- $r_1$ is the probability that there exists an infinite path down the tree that sums to at most 1.\n",
    "- $r_0$ is the probability that there exists an infinite path down the tree that sums to at most 0."
   ]
  },
  {
   "cell_type": "code",
   "execution_count": null,
   "id": "ed1c9cbe",
   "metadata": {},
   "outputs": [],
   "source": [
    "r1_eq = sympy.Eq(r1, (1 - p) * (1 - (1-r0)**2) + p * (1 - (1-r1)**2))\n",
    "r1_eq"
   ]
  },
  {
   "cell_type": "code",
   "execution_count": null,
   "id": "f2ede109",
   "metadata": {},
   "outputs": [],
   "source": [
    "r0_eq = sympy.Eq(r0, p * (1 - (1-r0)**2))\n",
    "r0_eq"
   ]
  },
  {
   "cell_type": "markdown",
   "id": "178a031e",
   "metadata": {},
   "source": [
    "### Solving"
   ]
  },
  {
   "cell_type": "markdown",
   "id": "0e6691b2",
   "metadata": {},
   "source": [
    "Perform the substitution of the given value of $r_1$ to get our set of equations."
   ]
  },
  {
   "cell_type": "code",
   "execution_count": null,
   "id": "ed99c17f",
   "metadata": {},
   "outputs": [],
   "source": [
    "subs_eqs = [eq.subs({r1: sympy.Rational(1, 2)}) for eq in [r1_eq, r0_eq]]\n",
    "subs_eqs"
   ]
  },
  {
   "cell_type": "markdown",
   "id": "b0338cfe",
   "metadata": {},
   "source": [
    "Solve the system of equations."
   ]
  },
  {
   "cell_type": "code",
   "execution_count": null,
   "id": "64ec41f8",
   "metadata": {},
   "outputs": [],
   "source": [
    "p_sols = sympy.solve(subs_eqs, [p,r0], dict=True)\n",
    "print(f\"Found {len(p_sols)} solutions\")\n",
    "p_sols"
   ]
  },
  {
   "cell_type": "markdown",
   "id": "e3c75c1a",
   "metadata": {},
   "source": [
    "Filter to only have real solutions."
   ]
  },
  {
   "cell_type": "code",
   "execution_count": null,
   "id": "7d3fb6d8",
   "metadata": {},
   "outputs": [],
   "source": [
    "p_real_sols = [sol for sol in p_sols if all([v.is_real for v in sol.values()])]\n",
    "print(f\"Found {len(p_real_sols)} real solutions\")\n",
    "p_real_sols"
   ]
  },
  {
   "cell_type": "markdown",
   "id": "c43e9e54",
   "metadata": {},
   "source": [
    "### Analysis"
   ]
  },
  {
   "cell_type": "markdown",
   "id": "7d599e2b",
   "metadata": {},
   "source": [
    "Here are the numerical values of the solutions"
   ]
  },
  {
   "cell_type": "code",
   "execution_count": null,
   "id": "5949cd11",
   "metadata": {},
   "outputs": [],
   "source": [
    "[{k:sympy.N(v) for k,v in sol.items()} for sol in p_real_sols]"
   ]
  },
  {
   "cell_type": "markdown",
   "id": "1a684364",
   "metadata": {},
   "source": [
    "Now, which solution is correct, or are both valid solutions? Well, for one we have $r_0 = 0$, which would mean it is impossible to have a sub-tree of all 0s: this corresponds to a path with a 1 infinitely far down it. We can ignore this as a degenerate case and just take the other solution."
   ]
  },
  {
   "cell_type": "code",
   "execution_count": null,
   "id": "e2673052",
   "metadata": {},
   "outputs": [],
   "source": [
    "sympy.simplify(p_real_sols[1][p])"
   ]
  },
  {
   "cell_type": "markdown",
   "id": "a5205b7b",
   "metadata": {},
   "source": [
    "To finish off, lets get the result to 10 decimal places as requested."
   ]
  },
  {
   "cell_type": "code",
   "execution_count": null,
   "id": "cfe695e8",
   "metadata": {},
   "outputs": [],
   "source": [
    "print(f\"Final solution: p = {sympy.N(p_real_sols[1][p]):.11f}\")"
   ]
  },
  {
   "cell_type": "markdown",
   "id": "d1e4f760",
   "metadata": {},
   "source": [
    "## Monte Carlo Simulation (Finite Depth Recursion)"
   ]
  },
  {
   "cell_type": "markdown",
   "id": "e5cd9132",
   "metadata": {},
   "source": [
    "We can try simulating the process of constructing a tree with random nodes and checking for an infinite path. Practically, we will need to check down to a maximum depth. One nice thing we can do is prune all infeasible branches of our search as soon as we reach them."
   ]
  },
  {
   "cell_type": "code",
   "execution_count": null,
   "id": "cb3b533b",
   "metadata": {},
   "outputs": [],
   "source": [
    "import random"
   ]
  },
  {
   "cell_type": "code",
   "execution_count": null,
   "id": "24c25e14",
   "metadata": {},
   "outputs": [],
   "source": [
    "def tree_sim(p, sum_rem, depth_rem):\n",
    "    if depth_rem == -1:\n",
    "        return True\n",
    "    sum_rem -= random.random() > p\n",
    "    return (sum_rem >= 0) and (tree_sim(p, sum_rem, depth_rem-1) or tree_sim(p, sum_rem, depth_rem-1))"
   ]
  },
  {
   "cell_type": "markdown",
   "id": "03f8d8bb",
   "metadata": {},
   "source": [
    "Let's try plugging in the solution from before with a good number of iterations and depth."
   ]
  },
  {
   "cell_type": "code",
   "execution_count": null,
   "id": "d680247e",
   "metadata": {},
   "outputs": [],
   "source": [
    "p_value = 0.530603575430005\n",
    "depth = 100\n",
    "iters = 100000"
   ]
  },
  {
   "cell_type": "code",
   "execution_count": null,
   "id": "6c7a97be",
   "metadata": {},
   "outputs": [],
   "source": [
    "samples = [tree_sim(p_value, 1, depth) for _ in range(iters)]\n",
    "mean = sum(samples) / iters\n",
    "mean"
   ]
  },
  {
   "cell_type": "markdown",
   "id": "0dc5483a",
   "metadata": {},
   "source": [
    "Let's also try the alternate solution."
   ]
  },
  {
   "cell_type": "code",
   "execution_count": null,
   "id": "c5002244",
   "metadata": {},
   "outputs": [],
   "source": [
    "p_value = 2/3\n",
    "depth = 100\n",
    "iters = 100000"
   ]
  },
  {
   "cell_type": "code",
   "execution_count": null,
   "id": "7af5ed77",
   "metadata": {},
   "outputs": [],
   "source": [
    "samples = [tree_sim(p_value, 1, depth) for _ in range(iters)]\n",
    "mean = sum(samples) / iters\n",
    "mean"
   ]
  },
  {
   "cell_type": "markdown",
   "id": "921b7ff1",
   "metadata": {},
   "source": [
    "It doesn't appear to work, though it could be because of the finite recursion."
   ]
  },
  {
   "cell_type": "markdown",
   "id": "e9d59368",
   "metadata": {},
   "source": [
    "Note also this approach take too long to converge to act as a feasible method for computing $p$ in the first place, espcially not at the precision required. If it were though, we could use techniques like stochastic optimization."
   ]
  },
  {
   "cell_type": "markdown",
   "id": "7208d6c2",
   "metadata": {},
   "source": [
    "## Dynamic Programming (Finite Depth Recursion)"
   ]
  },
  {
   "cell_type": "markdown",
   "id": "8b7c7405",
   "metadata": {},
   "source": [
    "We can get better resolution by working with probabilities directly with dynamic programming. Note we should use memoization/cacheing to same compute time."
   ]
  },
  {
   "cell_type": "code",
   "execution_count": null,
   "id": "2f195bf1",
   "metadata": {},
   "outputs": [],
   "source": [
    "from functools import cache"
   ]
  },
  {
   "cell_type": "code",
   "execution_count": null,
   "id": "a3462b12",
   "metadata": {},
   "outputs": [],
   "source": [
    "@cache\n",
    "def tree_dyn(p, sum_rem, depth_rem):\n",
    "    if sum_rem < 0:\n",
    "        return 0\n",
    "    if depth_rem == -1:\n",
    "        return 1\n",
    "    return p * (1 - (1-tree_dyn(p, sum_rem, depth_rem-1))**2) + (1 - p) * (1 - (1-tree_dyn(p, sum_rem-1, depth_rem-1))**2)"
   ]
  },
  {
   "cell_type": "markdown",
   "id": "0d34c148",
   "metadata": {},
   "source": [
    "Now we can use pretty large depths in almost no time to get far more accurate results. This further confirms our answer."
   ]
  },
  {
   "cell_type": "code",
   "execution_count": null,
   "id": "93199c97",
   "metadata": {},
   "outputs": [],
   "source": [
    "p_value = 0.530603575430005"
   ]
  },
  {
   "cell_type": "code",
   "execution_count": null,
   "id": "9441e1d1",
   "metadata": {},
   "outputs": [],
   "source": [
    "tree_dyn(p_value, 1, 1000)"
   ]
  },
  {
   "cell_type": "code",
   "execution_count": null,
   "id": "31eca703",
   "metadata": {},
   "outputs": [],
   "source": [
    "tree_dyn(2/3, 1, 1000)"
   ]
  },
  {
   "cell_type": "markdown",
   "id": "96208cdb",
   "metadata": {},
   "source": [
    "### Solving with Dynamic Programming"
   ]
  },
  {
   "cell_type": "markdown",
   "id": "ba14460d",
   "metadata": {},
   "source": [
    "We could also have solved the original problem using a root-finding algorithm, using our finite-depth dynamic programming implementation for quick computation of the function."
   ]
  },
  {
   "cell_type": "code",
   "execution_count": null,
   "id": "4dd45b41",
   "metadata": {},
   "outputs": [],
   "source": [
    "from scipy import optimize"
   ]
  },
  {
   "cell_type": "code",
   "execution_count": null,
   "id": "42275bde",
   "metadata": {},
   "outputs": [],
   "source": [
    "max_depth = 1200"
   ]
  },
  {
   "cell_type": "code",
   "execution_count": null,
   "id": "9afda859",
   "metadata": {},
   "outputs": [],
   "source": [
    "root = optimize.root_scalar(lambda x: 1/2 - tree_dyn(x, 1, max_depth), bracket=[0, 1], xtol=10**-(10+1))\n",
    "root"
   ]
  },
  {
   "cell_type": "code",
   "execution_count": null,
   "id": "5bd8d329",
   "metadata": {},
   "outputs": [],
   "source": [
    "print(f\"Solution: p = {root.root:.11f}\")"
   ]
  },
  {
   "cell_type": "markdown",
   "id": "ec96ea82",
   "metadata": {},
   "source": [
    "## Visualizations"
   ]
  },
  {
   "cell_type": "code",
   "execution_count": null,
   "id": "a1dcafd6",
   "metadata": {},
   "outputs": [],
   "source": [
    "import matplotlib.pyplot as plt"
   ]
  },
  {
   "cell_type": "code",
   "execution_count": null,
   "id": "182ed411",
   "metadata": {},
   "outputs": [],
   "source": [
    "import numpy as np"
   ]
  },
  {
   "cell_type": "markdown",
   "id": "cb03c5e4",
   "metadata": {},
   "source": [
    "### From Dynamic Programming"
   ]
  },
  {
   "cell_type": "code",
   "execution_count": null,
   "id": "8e8d347f",
   "metadata": {},
   "outputs": [],
   "source": [
    "x = np.linspace(0,1,1001)\n",
    "y = np.vectorize(lambda x: tree_dyn(x, 1, 1200))(x)"
   ]
  },
  {
   "cell_type": "code",
   "execution_count": null,
   "id": "ab959d02",
   "metadata": {},
   "outputs": [],
   "source": [
    "plt.plot(x,y)\n",
    "\n",
    "plt.xlabel(\"$p$\")\n",
    "plt.ylabel(\"$r_1$\")\n",
    "\n",
    "plt.xlim(0,1)\n",
    "plt.ylim(0,1)\n",
    "\n",
    "plt.xticks(np.linspace(0,1,11))\n",
    "plt.yticks(np.linspace(0,1,11))\n",
    "plt.grid(True)\n",
    "\n",
    "plt.show()"
   ]
  },
  {
   "cell_type": "markdown",
   "id": "9062a662",
   "metadata": {},
   "source": [
    "### From Analytical\n",
    "\n",
    "Since we have the analytical solution, we could graph exactly from that:"
   ]
  },
  {
   "cell_type": "code",
   "execution_count": null,
   "id": "57edb727",
   "metadata": {},
   "outputs": [],
   "source": [
    "r1_sols = sympy.solve([r0_eq, r1_eq], [r0, r1], dict=True)\n",
    "r1_sols"
   ]
  },
  {
   "cell_type": "markdown",
   "id": "46f7a139",
   "metadata": {},
   "source": [
    "Since we have multiple solutions in terms of $p$, let's graph all of them."
   ]
  },
  {
   "cell_type": "code",
   "execution_count": null,
   "id": "da514ba7",
   "metadata": {},
   "outputs": [],
   "source": [
    "for i,sol in enumerate(r1_sols):\n",
    "    f = sympy.lambdify(p, sympy.expand(sol[r1]), 'numpy')\n",
    "    x = np.linspace(0,1,10001)\n",
    "    y = f(x)\n",
    "    if not isinstance(y, np.ndarray):\n",
    "        y = y * np.ones_like(x)\n",
    "    plt.plot(x,y, label=f\"Solution {i}\")\n",
    "\n",
    "plt.xlabel(\"$p$\")\n",
    "plt.ylabel(\"$r_1$\")\n",
    "\n",
    "plt.xlim(0,1)\n",
    "plt.ylim(0,1)\n",
    "\n",
    "plt.xticks(np.linspace(0,1,11))\n",
    "plt.yticks(np.linspace(0,1,11))\n",
    "plt.grid(True)\n",
    "\n",
    "plt.legend()\n",
    "\n",
    "plt.show()"
   ]
  },
  {
   "cell_type": "markdown",
   "id": "314ad3ce",
   "metadata": {},
   "source": [
    "## Final Analysis: Domain of p"
   ]
  },
  {
   "cell_type": "markdown",
   "id": "6944fd93",
   "metadata": {},
   "source": [
    "### Evaluating r1 at different p"
   ]
  },
  {
   "cell_type": "markdown",
   "id": "a2a5d77b",
   "metadata": {},
   "source": [
    "As a finale, since we see the value of $r_1$ increases monotonically from 0 to 1, and appears to be over values of $p$ from $\\frac{1}{2}$ to 1, let's verify this."
   ]
  },
  {
   "cell_type": "code",
   "execution_count": null,
   "id": "d7f8c993",
   "metadata": {},
   "outputs": [],
   "source": [
    "print(\"p = 0\")\n",
    "for i,sol in enumerate(r1_sols):\n",
    "    print(f\"Solution {i}: r1 = {sol[r1].subs({p: 0})}\")\n",
    "print(\"p = 1/2\")\n",
    "for i,sol in enumerate(r1_sols):\n",
    "    print(f\"Solution {i}: r1 = {sol[r1].subs({p: sympy.Rational(1,2)})}\")\n",
    "print(\"p = 1\")\n",
    "for i,sol in enumerate(r1_sols):\n",
    "    print(f\"Solution {i}: r1 = {sol[r1].subs({p: 1})}\")"
   ]
  },
  {
   "cell_type": "markdown",
   "id": "36553b61",
   "metadata": {},
   "source": [
    "So it seems the function does not give finite or real solutions for values of $p \\lt \\frac{1}{2}$. Let's also look at the inverse perspective."
   ]
  },
  {
   "cell_type": "markdown",
   "id": "9058dd20",
   "metadata": {},
   "source": [
    "### Evaluation p at different r1"
   ]
  },
  {
   "cell_type": "code",
   "execution_count": null,
   "id": "a976b081",
   "metadata": {},
   "outputs": [],
   "source": [
    "p_full_sols = sympy.solve([r0_eq, r1_eq], [p, r0], dict=True)\n",
    "p_full_sols"
   ]
  },
  {
   "cell_type": "code",
   "execution_count": null,
   "id": "584ef8ac",
   "metadata": {},
   "outputs": [],
   "source": [
    "print(\"r1 = 0\")\n",
    "for i,sol in enumerate(p_full_sols):\n",
    "    print(f\"Solution {i}: p = {sol[p].subs({r1: 0})}\")\n",
    "print(\"r1 = 1\")\n",
    "for i,sol in enumerate(p_full_sols):\n",
    "    print(f\"Solution {i}: p = {sol[p].subs({r1: 1})}\")"
   ]
  },
  {
   "cell_type": "markdown",
   "id": "6087bfef",
   "metadata": {},
   "source": [
    "Let's see if we take the single sided limit if it helps."
   ]
  },
  {
   "cell_type": "code",
   "execution_count": null,
   "id": "3b0b2bae",
   "metadata": {},
   "outputs": [],
   "source": [
    "print(\"r1 = 0\")\n",
    "for i,sol in enumerate(p_full_sols):\n",
    "    print(f\"Solution {i}: p = {sympy.limit(sol[p], r1, 0, '+')}\")\n",
    "print(\"r1 = 1\")\n",
    "for i,sol in enumerate(p_full_sols):\n",
    "    print(f\"Solution {i}: p = {sympy.limit(sol[p], r1, 1, '-')}\")"
   ]
  },
  {
   "cell_type": "markdown",
   "id": "b715c933",
   "metadata": {},
   "source": [
    "Seems not really as we still hit complex numbers."
   ]
  },
  {
   "cell_type": "markdown",
   "id": "09c1f69f",
   "metadata": {},
   "source": [
    "## Conclusion\n",
    "\n",
    "This was a fun and fairly easy problem. A great way to explore recusion, dynamic programming, Monte Carlo simulation, root-finding, and Sympy's capabilities, as well as learn about percolation theory. \n",
    "\n",
    "And indeed, submitting 0.53060357543 got my name on the Correct Submissions board. Thank you Jane Street for the great puzzle!"
   ]
  },
  {
   "cell_type": "code",
   "execution_count": null,
   "id": "bfcc69d9",
   "metadata": {},
   "outputs": [],
   "source": []
  }
 ],
 "metadata": {
  "kernelspec": {
   "display_name": "Python 3",
   "language": "python",
   "name": "python3"
  },
  "language_info": {
   "codemirror_mode": {
    "name": "ipython",
    "version": 3
   },
   "file_extension": ".py",
   "mimetype": "text/x-python",
   "name": "python",
   "nbconvert_exporter": "python",
   "pygments_lexer": "ipython3",
   "version": "3.11.7"
  }
 },
 "nbformat": 4,
 "nbformat_minor": 5
}
