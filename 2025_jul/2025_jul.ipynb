{
 "cells": [
  {
   "cell_type": "markdown",
   "id": "fa060835",
   "metadata": {},
   "source": [
    "# Jane Street Puzzle 2025 July: Robot Road Trip\n",
    "\n",
    "https://www.janestreet.com/puzzles/robot-road-trip-index/\n",
    "\n",
    "Robot cars have a top speed (which they prefer to maintain at all times while driving) that’s a real number randomly drawn uniformly between 1 and 2 miles per minute. A two-lane highway for robot cars has a fast lane (with minimum speed a) and a slow lane (with maximum speed a). When a faster car overtakes a slower car in the same lane, the slower car is required to decelerate to either change lanes (if both cars start in the fast lane) or stop on the shoulder (if both cars start in the slow lane). Robot cars decelerate and accelerate at a constant rate of 1 mile per minute per minute, timed so the faster, overtaking car doesn’t have to change speed at all, and passing happens instantaneously. If cars rarely meet (so you never have to consider a car meeting more than one other car on its trip, see Mathematical clarification below), and you want to minimize the miles not driven due to passing, what should a be set to, in miles per minute? Give your answer to 10 decimal places."
   ]
  },
  {
   "cell_type": "markdown",
   "id": "6e74cdaf",
   "metadata": {},
   "source": [
    "## Analytical Solution Setup\n",
    "\n",
    "### Preamble and assumptions\n",
    "\n",
    "There is some mathematical clarifications given, but I didn't use them in the solution I found. It's possible I misinterpreted the problem, sometimes probability problems can be tricky. We shall see. I focused on the \"you never have to consider a car meeting more than one other car on its trip\" part of the description, and tackled the problem from the perspective of a single car traveling at speed $v_0$, and then meeting another car behind, traveling at speed $v_1$.\n",
    "\n",
    "### Problem Definition\n",
    "\n",
    "We can start by defining the problem \n",
    "$$ \\underset{a}{\\arg \\min} \\operatorname{E} \\left[ l \\right]$$\n",
    "Where\n",
    "- $ a $ is the slow lane maximum speed and fast lane minimum speed.\n",
    "- $ l $ is the distance distance not driven due to passing.\n",
    "- $ \\operatorname {E} \\left[ l \\right] $ is the expected distance not driven due to passing.\n",
    "\n",
    "### Expected Value Definition\n",
    "\n",
    "We can use the definition of [expected value](https://en.wikipedia.org/wiki/Expected_value), with the fact that the speed are uniformly distributed over $\\left[1, 2\\right]$, and therefore has probability density $1$ over that domain and $0$ elsewhere, to construct the integral expression for $\\operatorname{E} \\left[ l \\right]$:\n",
    "$$ \\operatorname{E} \\left[ l \\right] = \\int_{1}^{2} \\int_{1}^{2} l \\,dv_{1} \\,dv_{0} $$\n",
    "Where\n",
    "- $ l $ is the distance distance not driven due to passing.\n",
    "- $ \\operatorname {E} \\left[ l \\right] $ is the expected distance not driven due to passing.\n",
    "- $ v_{0} $ is the speed of the car in front.\n",
    "- $ v_{1} $ is the speed of the car in behind.\n",
    "\n",
    "### Kinematics\n",
    "\n",
    "To find the distance lost by being overtaken, we can compute it from the kinematic equations of [linear motion](https://en.wikipedia.org/wiki/Linear_motion) with constant acceleration.\n",
    "$$ {v_f}^2 - {v_i}^2 = 2 l \\dot{v}  $$\n",
    "Where\n",
    "- $ v_i $ is the initial speed.\n",
    "- $ v_f $ is the final speed.\n",
    "- $ \\dot{v} $ is the acceleration.\n",
    "- $ l $ is the distance.\n",
    "\n",
    "We'll be wanting the distance, so we can rearrange:\n",
    "$$ l = \\frac{{v_f}^2 - {v_i}^2}{2 \\dot{v}} $$\n",
    "\n",
    "We can compute the change in distance from the frame of reference traveling at $ v_0 $:\n",
    "$$ v_i = 0 $$\n",
    "We have constants acceleration, in units of miles and minutes is $ 1 $:\n",
    "$$ \\dot{v} = 1 $$\n",
    "And also we'll need to do both the decelerating, as well as the accelerating back up, which are mirrors to eachother, so we can just double to get the total change in distance. Putting all these together gives us the equation:\n",
    "$$ l = {v_f}^2 $$\n",
    "\n",
    "\n",
    "In the case of moving from the slow lane to the shoulder:\n",
    "$$ l =  \\left( -v_0 \\right) ^ 2 = {-v_0}^2 $$\n",
    "\n",
    "In the case of moving from the fast lane to the slow lane (and back):\n",
    "$$ l =  \\left( a - v_0 \\right) ^ 2 = \\left( v_0 - a \\right) ^ 2 $$\n",
    "\n",
    "Putting all this togther we can construct a complete piecewise definition for $ l $:\n",
    "$$ l = {\n",
    "    \\begin{cases}\n",
    "        0 & \n",
    "            \\text{if } v_0 \\geq v_1 \\text{ (car 1 can never catch up)} \\\\\n",
    "        {v_{0}}^2 & \n",
    "            \\text{if } a > v_1 > v_0 \\text{ (car 0 moves from the slow lane to the shoulder)} \\\\\n",
    "        0 & \n",
    "            \\text{if } v_1 > a > v_0 \\text{ (car 0 and car 1 are in different lanes)} \\\\\n",
    "        \\left( v_0 - a \\right) ^ 2 & \n",
    "            \\text{if } v_1 > v_0 > a \\text{ (car 0 moves from the fast lane to the slow lane)}\n",
    "    \\end{cases}\n",
    "} $$\n",
    "\n",
    "### Piecewising the Integral Bounds\n",
    "\n",
    "We can actually put this into our integral for $ \\operatorname{E} \\left[ l \\right] $ fairly easily by using the bounds:\n",
    "\n",
    "$$ \\operatorname{E} \\left[ l \\right] = \n",
    "    \\int_{1}^{a} \\int_{v_0}^{a} {v_{0}}^2 \\,dv_{1} \\,dv_{0} +\n",
    "    \\int_{a}^{2} \\int_{v_0}^{2}  \\left( v_0 - a \\right) ^ 2 \\,dv_{1} \\,dv_{0} $$\n",
    "Where\n",
    "- $ a $ is the slow lane maximum speed and fast lane minimum speed.\n",
    "- $ l $ is the distance distance not driven due to passing.\n",
    "- $ \\operatorname {E} \\left[ l \\right] $ is the expected distance not driven due to passing.\n",
    "- $ v_{0} $ is the speed of the car in front.\n",
    "- $ v_{1} $ is the speed of the car in behind."
   ]
  },
  {
   "cell_type": "markdown",
   "id": "f92beab1",
   "metadata": {},
   "source": [
    "## Visualizing the Domain"
   ]
  },
  {
   "cell_type": "code",
   "execution_count": null,
   "id": "1b823134",
   "metadata": {},
   "outputs": [],
   "source": [
    "import matplotlib.pyplot as plt\n",
    "import matplotlib.patches as patches"
   ]
  },
  {
   "cell_type": "code",
   "execution_count": null,
   "id": "2f6466df",
   "metadata": {},
   "outputs": [],
   "source": [
    "fig, ax = plt.subplots()\n",
    "\n",
    "a = 1.3\n",
    "\n",
    "# Define the domain regions\n",
    "\n",
    "polygon_vertices = [[1, 1], [2, 2], [2, 1]]\n",
    "polygon = patches.Polygon(polygon_vertices, closed=True, facecolor='lightgrey', label='$v_0 \\geq v_1$: car 1 can never catch up')\n",
    "ax.add_patch(polygon)\n",
    "\n",
    "polygon_vertices = [[1, 1], [a, a], [1, a]]\n",
    "polygon = patches.Polygon(polygon_vertices, closed=True, facecolor='blue', label='$a > v_1 > v_0$: car 0 moves from the slow lane to the shoulder')\n",
    "ax.add_patch(polygon)\n",
    "\n",
    "polygon_vertices = [[a, a], [a, 2], [1, 2], [1, a]]\n",
    "polygon = patches.Polygon(polygon_vertices, closed=True, facecolor='yellow', label='$v_1 > a > v_0$: car 0 and car 1 are in different lanes')\n",
    "ax.add_patch(polygon)\n",
    "\n",
    "polygon_vertices = [[a, a], [2, 2], [a, 2]]\n",
    "polygon = patches.Polygon(polygon_vertices, closed=True, facecolor='red', label='$v_1 > v_0 > a$: car 0 moves from the fast lane to the slow lane')\n",
    "ax.add_patch(polygon)\n",
    "\n",
    "# Draw the lines for a\n",
    "plt.axvline(x=a, color='black', linestyle='--', linewidth=1)\n",
    "plt.axhline(y=a, color='black', linestyle='--', linewidth=1)\n",
    "\n",
    "ax.set_xlabel(\"$v_0$\")\n",
    "ax.set_ylabel(\"$v_1$\")\n",
    "\n",
    "ax.set_aspect('equal')\n",
    "ax.set_xlim(1, 2)\n",
    "ax.set_ylim(1, 2)\n",
    "\n",
    "# add the ticks for a\n",
    "\n",
    "ticks,labels = plt.xticks()\n",
    "labels = [l.get_text() for l in labels]\n",
    "ax.set_xticks(list(ticks) + [a], labels=labels + ['a'])\n",
    "\n",
    "ticks,labels = plt.yticks()\n",
    "labels = [l.get_text() for l in labels]\n",
    "ax.set_yticks(list(ticks) + [a], labels=labels + ['a'])\n",
    "\n",
    "ax.legend(loc='center left', bbox_to_anchor=(1.05, 0.5), borderaxespad=0.)\n",
    "\n",
    "plt.show()"
   ]
  },
  {
   "cell_type": "markdown",
   "id": "6910513f",
   "metadata": {},
   "source": [
    "## Solving with Sympy\n",
    "\n",
    "We can use sympy to do all the algebra for us."
   ]
  },
  {
   "cell_type": "code",
   "execution_count": null,
   "id": "4a062b90",
   "metadata": {},
   "outputs": [],
   "source": [
    "import sympy"
   ]
  },
  {
   "cell_type": "code",
   "execution_count": null,
   "id": "f9d1ff7b",
   "metadata": {},
   "outputs": [],
   "source": [
    "v_0, v_1, a = sympy.symbols(\"v_0 v_1 a\")"
   ]
  },
  {
   "cell_type": "code",
   "execution_count": null,
   "id": "dc72a3f9",
   "metadata": {},
   "outputs": [],
   "source": [
    "I = sympy.Integral(sympy.Integral(v_0**2, (v_1, v_0, a)), (v_0, 1, a)) + \\\n",
    "sympy.Integral(sympy.Integral( (v_0 - a)**2, (v_1, v_0, 2)), (v_0, a, 2))\n",
    "\n",
    "I"
   ]
  },
  {
   "cell_type": "code",
   "execution_count": null,
   "id": "ca02adf4",
   "metadata": {},
   "outputs": [],
   "source": [
    "Isolved = I.doit().simplify()\n",
    "Isolved"
   ]
  },
  {
   "cell_type": "code",
   "execution_count": null,
   "id": "d576a6e9",
   "metadata": {},
   "outputs": [],
   "source": [
    "s = sympy.solve(sympy.diff(Isolved, a))\n",
    "s"
   ]
  },
  {
   "cell_type": "code",
   "execution_count": null,
   "id": "e7c2705f",
   "metadata": {},
   "outputs": [],
   "source": [
    "s[-1]"
   ]
  },
  {
   "cell_type": "code",
   "execution_count": null,
   "id": "aeec5a55",
   "metadata": {},
   "outputs": [],
   "source": [
    "sympy.N(s[-1].simplify())"
   ]
  },
  {
   "cell_type": "markdown",
   "id": "6cabd6c7",
   "metadata": {},
   "source": [
    "### Plot It"
   ]
  },
  {
   "cell_type": "code",
   "execution_count": null,
   "id": "4d44b498",
   "metadata": {},
   "outputs": [],
   "source": [
    "import numpy as np"
   ]
  },
  {
   "cell_type": "code",
   "execution_count": null,
   "id": "823292de",
   "metadata": {},
   "outputs": [],
   "source": [
    "# Convert to a numerical function\n",
    "f = sympy.lambdify(a, Isolved, 'numpy')\n",
    "\n",
    "# Create range and evaluate\n",
    "x_vals = np.linspace(1, 2, 100)\n",
    "y_vals = f(x_vals)\n",
    "\n",
    "plt.plot(x_vals, y_vals)\n",
    "plt.xlabel('a')\n",
    "plt.ylabel('E[a]')\n",
    "plt.show()"
   ]
  },
  {
   "cell_type": "markdown",
   "id": "6459391c",
   "metadata": {},
   "source": [
    "## Numerical"
   ]
  },
  {
   "cell_type": "code",
   "execution_count": null,
   "id": "0c7bb750",
   "metadata": {},
   "outputs": [],
   "source": [
    "def compute_miles(a, v0, v1):\n",
    "    if v1 <= v0: # v0 ahead remains ahead\n",
    "        return 0\n",
    "    if v1 > a > v0: # different lanes\n",
    "        return 0\n",
    "    if v1 > v0 > a: # move to slow lane\n",
    "        return (v0 - a) ** 2\n",
    "    if a > v1 > v0: # move to shoulder\n",
    "        return v0 ** 2\n",
    "    return -1 # never reached"
   ]
  },
  {
   "cell_type": "markdown",
   "id": "5c08d53f",
   "metadata": {},
   "source": [
    "We can verify the values given in the examples:"
   ]
  },
  {
   "cell_type": "code",
   "execution_count": null,
   "id": "a57d247a",
   "metadata": {},
   "outputs": [],
   "source": [
    "compute_miles(1.2, 1.1, 1.8)"
   ]
  },
  {
   "cell_type": "code",
   "execution_count": null,
   "id": "b7a78d5f",
   "metadata": {},
   "outputs": [],
   "source": [
    "compute_miles(1.2, 1.7, 1.8)"
   ]
  },
  {
   "cell_type": "code",
   "execution_count": null,
   "id": "98140609",
   "metadata": {},
   "outputs": [],
   "source": [
    "compute_miles(1.2, 1.0, 1.1)"
   ]
  },
  {
   "cell_type": "markdown",
   "id": "927197ce",
   "metadata": {},
   "source": [
    "### Monte Carlo Simulation"
   ]
  },
  {
   "cell_type": "code",
   "execution_count": null,
   "id": "82c771ca",
   "metadata": {},
   "outputs": [],
   "source": [
    "import random"
   ]
  },
  {
   "cell_type": "code",
   "execution_count": null,
   "id": "20d43f40",
   "metadata": {},
   "outputs": [],
   "source": [
    "def MonteCarlo(a, n = 1000):\n",
    "    result = 0\n",
    "    for _ in range(n):\n",
    "        v0 = random.uniform(1,2)\n",
    "        v1 = random.uniform(1,2)\n",
    "        result += compute_miles(a, v0, v1)\n",
    "    result /= n\n",
    "    return result"
   ]
  },
  {
   "cell_type": "code",
   "execution_count": null,
   "id": "9a717729",
   "metadata": {},
   "outputs": [],
   "source": [
    "for a in np.linspace(0.9,1.3,101):\n",
    "    print(a, MonteCarlo(a, n = 10000))"
   ]
  },
  {
   "cell_type": "markdown",
   "id": "f072f4a3",
   "metadata": {},
   "source": [
    "## Conclusion\n",
    "\n",
    "This was a fun and fairly easy problem (assuming my interpretation was correct!). A great way to explore probability and expected values, as well as multiple integrals.\n",
    "\n",
    "Thank you Jane Street for the great puzzle!"
   ]
  },
  {
   "cell_type": "code",
   "execution_count": null,
   "id": "5ba0c646",
   "metadata": {},
   "outputs": [],
   "source": []
  }
 ],
 "metadata": {
  "kernelspec": {
   "display_name": "Python 3",
   "language": "python",
   "name": "python3"
  },
  "language_info": {
   "codemirror_mode": {
    "name": "ipython",
    "version": 3
   },
   "file_extension": ".py",
   "mimetype": "text/x-python",
   "name": "python",
   "nbconvert_exporter": "python",
   "pygments_lexer": "ipython3",
   "version": "3.11.7"
  }
 },
 "nbformat": 4,
 "nbformat_minor": 5
}
